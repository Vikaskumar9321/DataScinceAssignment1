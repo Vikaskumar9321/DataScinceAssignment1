{
 "cells": [
  {
   "cell_type": "markdown",
   "id": "59b22ba4-ea4b-4175-9cb2-c77434c52635",
   "metadata": {},
   "source": [
    "##ans1 = Python was conceived in the late 1980s by Guido van Rossum "
   ]
  },
  {
   "cell_type": "markdown",
   "id": "6c6ca6bd-af5a-4746-b0f7-98d76c03a652",
   "metadata": {},
   "source": [
    "##ans2 = pytbon support multiple programming paradigms, including:\n",
    "A) object - oriented programming(oop)- expressing a sequence of action to be taken\n",
    "B) functional programming - treating computation as the evaluation of mathematical functions\n",
    "C) procedural programming - breaking down a problem into a series of procedures or subroutines."
   ]
  },
  {
   "cell_type": "markdown",
   "id": "876a63a0-891d-4cf8-9a03-d4ff9894beb9",
   "metadata": {},
   "source": [
    "## ans3 = Yes\n"
   ]
  },
  {
   "cell_type": "markdown",
   "id": "aa235408-2338-4059-a1a7-d435fe7810d9",
   "metadata": {},
   "source": [
    "## ans 4 = .py"
   ]
  },
  {
   "cell_type": "markdown",
   "id": "aa494d6d-f2f4-451d-8b2f-72ba65c30262",
   "metadata": {},
   "source": [
    "## ans 5 = python is an interpreted language"
   ]
  },
  {
   "cell_type": "markdown",
   "id": "b11ced4e-73cd-4aaf-a89f-cdf0d55a184e",
   "metadata": {},
   "source": [
    "## ans 6 = few blocks of code used  in python\n",
    "#a) Function definition:\n",
    "#b) Conditional statements:\n",
    "#c) Loops:\n",
    "#d) Class Definition:\n",
    "#e) Exception handling:"
   ]
  },
  {
   "cell_type": "markdown",
   "id": "f5bc1ea1-70ad-4838-9c75-8eae8d7f4c64",
   "metadata": {},
   "source": [
    "# ans 7 = the pound symbole('#') is used to give single-line comments"
   ]
  },
  {
   "cell_type": "markdown",
   "id": "9551c323-24cc-45e8-b3f4-8005a0ab4d41",
   "metadata": {},
   "source": [
    "#ans8 = In Python, there are several functions that can be used to find the version of Python you are currently working with:\n",
    "#sys.version: This returns a string containing information about the Python version, including the release number, build number, and compiler used.\n",
    "\n",
    "sys.version_info: This returns a named tuple containing information about the Python version, including the major, minor, and micro release numbers.\n",
    "\n",
    "platform.python_version(): This returns a string containing the version of the Python interpreter, including the release number and build information.\n",
    "\n",
    "import platform; platform.python_version(): This returns a string that specifies the version of the Python interpreter.\n",
    "\n",
    "import sys; print(sys.version): This returns a string that specifies the version of the Python interpreter, including information about the release number and build information."
   ]
  },
  {
   "cell_type": "markdown",
   "id": "52451509-0feb-4600-9a55-b09bac004dda",
   "metadata": {},
   "source": [
    "#ans9 = 'lambda function'"
   ]
  },
  {
   "cell_type": "markdown",
   "id": "f34bc8a8-1dfb-4107-ada2-e97ef5a7b340",
   "metadata": {},
   "source": [
    "#ans10 = pip stands for \"preferred installer program\""
   ]
  },
  {
   "cell_type": "markdown",
   "id": "4377a437-d31b-401a-9cca-9e8891983d3e",
   "metadata": {},
   "source": [
    "#ans11 = Here are a function\n",
    "1.print(): used to display output to the console\n",
    "2.len(): returns the length of an object, such as a string or list\n",
    "3.int(): converts a value to an integer\n",
    "4.float(): convert a value to a float\n",
    "5.str(): convert a value to a string\n",
    "6.type(): returns the type of an object\n",
    "7.sorted(): sorts a list or other iterable object\n",
    "8.sum(): returns the sum of elements in an iterable object\n",
    "9.max(): returns the maximum element in an itreable object\n",
    "10.min(): returns the minimum ellement in an iterable object"
   ]
  },
  {
   "cell_type": "markdown",
   "id": "005b6abc-69bb-4df7-81fc-b250d64cfdb4",
   "metadata": {},
   "source": [
    "#ans12= An identifier can have a maximum length of 79 characters in Python"
   ]
  },
  {
   "cell_type": "markdown",
   "id": "0f49c121-4a20-4c96-83a0-dc124d87b905",
   "metadata": {},
   "source": [
    "#ans 13 = Easy to learn and use: Python has a simple, intuitive syntax that is easy for beginners to pick up, making it a great first programming language to learn.\n",
    "\n",
    "Versatile: Python can be used for a wide range of tasks, including web development, scientific computing, data analysis, artificial intelligence, and more.\n",
    "\n",
    "Large and active community: Python has a large and active community of users and developers, which means that there is a wealth of resources available online and a strong ecosystem of packages and libraries that you can use to extend the functionality of the language.\n",
    "\n",
    "Plenty of libraries and tools: Python has a large number of libraries and tools that can be used to perform specific tasks, such as data analysis, machine learning, web scraping, and more.\n",
    "\n",
    "Interoperability: Python can easily interact with other languages and technologies, such as C, C++, and Java, making it easy to integrate into existing systems and workflows.\n",
    "\n",
    "High-level language: Python is a high-level language, which means that it abstracts away many of the low-level details of programming, making it easier to develop large, complex applications quickly.\n",
    "\n",
    "Dynamic and interpreted: Python is both a dynamically-typed and interpreted language, which means that you can write and run code quickly, without having to recompile your code after every change.\n",
    "\n",
    "These are just a few of the many benefits of using Python, making it one of the most popular and widely used programming languages in the world."
   ]
  },
  {
   "cell_type": "markdown",
   "id": "9833bb38-5603-4b4e-bb82-c544715e3404",
   "metadata": {},
   "source": [
    "#ans14 = In Python, memory management is handled automatically by the Python interpreter. The Python memory manager keeps track of objects in memory and automatically frees up memory that is no longer being used by the program. This is done through a process called garbage collection.\n",
    "\n",
    "The Python memory manager uses a reference counting system to keep track of how many references there are to an object in memory. When the number of references to an object drops to zero, the memory manager automatically frees up the memory used by that object.\n",
    "\n",
    "In addition to reference counting, Python also uses cyclic garbage collection to detect and collect objects that are no longer reachable from the program, even if their reference count is not zero. This helps to prevent memory leaks and ensures that the program uses memory efficiently.\n",
    "\n",
    "Overall, the Python memory manager provides a convenient and efficient way to manage memory, allowing programmers to focus on writing code without having to worry about memory management issues."
   ]
  },
  {
   "cell_type": "markdown",
   "id": "56576c36-59c0-41b8-b397-94103ff50d7c",
   "metadata": {},
   "source": [
    "#ans15 = Download the Python installation package: Go to the official Python website (https://www.python.org/) and download the latest version of Python for Windows.\n",
    "\n",
    "Install Python: Run the installation package and follow the steps to install Python on your computer. Make sure to select the option to add Python to the PATH environment variable during the installation process.\n",
    "\n",
    "Verify the installation: Open the Command Prompt and type \"python\" and press enter. If the installation was successful, you should see the Python prompt (>>>) indicating that Python is ready to use.\n",
    "\n",
    "Set the path variables: If you did not select the option to add Python to the PATH environment variable during the installation, you can set it manually.\n",
    "\n",
    "To set the PATH variable:\n",
    "\n",
    "Open the Start menu, search for \"Environment Variables\" and select \"Edit the system environment variables\".\n",
    "Click on the \"Environment Variables\" button.\n",
    "In the \"System Variables\" section, scroll down and find the \"Path\" variable, then click on \"Edit\".\n",
    "Click on \"New\" and add the path to the Python installation directory (for example, \"C:\\Python36\").\n",
    "Click \"OK\" to close all windows and save the changes.\n",
    "Now, you can use Python from the Command Prompt by typing \"python\" or run Python scripts by specifying the full path to the script file"
   ]
  },
  {
   "cell_type": "markdown",
   "id": "da09454d-a375-4097-8935-4e19184783df",
   "metadata": {},
   "source": [
    "#ans16 =Yes, indentation is required in Python to define blocks of code, such as loops and function definitions. Indentation is used in Python to indicate the structure of the code and to delimit blocks of code that belong together. This makes the code easier to read and understand, as the indentation clearly shows the relationships between different parts of the code."
   ]
  },
  {
   "cell_type": "code",
   "execution_count": null,
   "id": "686c82c2-2d97-4010-b54f-f880101544a6",
   "metadata": {},
   "outputs": [],
   "source": []
  }
 ],
 "metadata": {
  "kernelspec": {
   "display_name": "Python 3 (ipykernel)",
   "language": "python",
   "name": "python3"
  },
  "language_info": {
   "codemirror_mode": {
    "name": "ipython",
    "version": 3
   },
   "file_extension": ".py",
   "mimetype": "text/x-python",
   "name": "python",
   "nbconvert_exporter": "python",
   "pygments_lexer": "ipython3",
   "version": "3.10.8"
  }
 },
 "nbformat": 4,
 "nbformat_minor": 5
}
